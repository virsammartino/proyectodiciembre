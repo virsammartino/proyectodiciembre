{
 "cells": [
  {
   "cell_type": "code",
   "execution_count": 4,
   "metadata": {},
   "outputs": [],
   "source": [
    "import pandas as pd  \n",
    "import numpy as np \n",
    "import matplotlib.pyplot as plt\n",
    "import seaborn as sns\n",
    "import re\n",
    "%matplotlib inline\n"
   ]
  },
  {
   "cell_type": "code",
   "execution_count": 5,
   "metadata": {},
   "outputs": [
    {
     "name": "stderr",
     "output_type": "stream",
     "text": [
      "C:\\Users\\Lucia Sammartino\\.conda\\envs\\dhdsblend\\lib\\site-packages\\IPython\\core\\interactiveshell.py:3146: DtypeWarning: Columns (113) have mixed types.Specify dtype option on import or set low_memory=False.\n",
      "  interactivity=interactivity, compiler=compiler, result=result)\n"
     ]
    }
   ],
   "source": [
    "df = pd.read_csv('aprender2018.csv',sep=';')"
   ]
  },
  {
   "cell_type": "code",
   "execution_count": 6,
   "metadata": {},
   "outputs": [
    {
     "data": {
      "text/html": [
       "<div>\n",
       "<style scoped>\n",
       "    .dataframe tbody tr th:only-of-type {\n",
       "        vertical-align: middle;\n",
       "    }\n",
       "\n",
       "    .dataframe tbody tr th {\n",
       "        vertical-align: top;\n",
       "    }\n",
       "\n",
       "    .dataframe thead th {\n",
       "        text-align: right;\n",
       "    }\n",
       "</style>\n",
       "<table border=\"1\" class=\"dataframe\">\n",
       "  <thead>\n",
       "    <tr style=\"text-align: right;\">\n",
       "      <th></th>\n",
       "      <th>ap1</th>\n",
       "      <th>ap2</th>\n",
       "      <th>ap3a</th>\n",
       "      <th>ap3b</th>\n",
       "      <th>ap3c</th>\n",
       "      <th>ap4</th>\n",
       "      <th>ap5a</th>\n",
       "      <th>ap5b</th>\n",
       "      <th>ap5c</th>\n",
       "      <th>ap5d</th>\n",
       "      <th>...</th>\n",
       "      <th>ponder</th>\n",
       "      <th>lpondera</th>\n",
       "      <th>ldesemp</th>\n",
       "      <th>lpuntaje</th>\n",
       "      <th>mpondera</th>\n",
       "      <th>mdesemp</th>\n",
       "      <th>mpuntaje</th>\n",
       "      <th>isocioa</th>\n",
       "      <th>isocioal</th>\n",
       "      <th>isocioam</th>\n",
       "    </tr>\n",
       "  </thead>\n",
       "  <tbody>\n",
       "    <tr>\n",
       "      <th>154453</th>\n",
       "      <td>3</td>\n",
       "      <td>1</td>\n",
       "      <td>1</td>\n",
       "      <td>1</td>\n",
       "      <td>1</td>\n",
       "      <td>3</td>\n",
       "      <td>1</td>\n",
       "      <td>1</td>\n",
       "      <td>-9</td>\n",
       "      <td>1</td>\n",
       "      <td>...</td>\n",
       "      <td>1,0514314</td>\n",
       "      <td>1,0794231</td>\n",
       "      <td>2</td>\n",
       "      <td>433,79013</td>\n",
       "      <td>1,0515739</td>\n",
       "      <td>2</td>\n",
       "      <td>454,12231</td>\n",
       "      <td>2</td>\n",
       "      <td>2</td>\n",
       "      <td>2</td>\n",
       "    </tr>\n",
       "    <tr>\n",
       "      <th>232068</th>\n",
       "      <td>3</td>\n",
       "      <td>2</td>\n",
       "      <td>1</td>\n",
       "      <td>1</td>\n",
       "      <td>1</td>\n",
       "      <td>8</td>\n",
       "      <td>1</td>\n",
       "      <td>2</td>\n",
       "      <td>-9</td>\n",
       "      <td>1</td>\n",
       "      <td>...</td>\n",
       "      <td>1,0039129</td>\n",
       "      <td>1,0064166</td>\n",
       "      <td>3</td>\n",
       "      <td>499,94806</td>\n",
       "      <td>1,0570092</td>\n",
       "      <td>3</td>\n",
       "      <td>511,01062</td>\n",
       "      <td>1</td>\n",
       "      <td>1</td>\n",
       "      <td>1</td>\n",
       "    </tr>\n",
       "    <tr>\n",
       "      <th>365165</th>\n",
       "      <td>2</td>\n",
       "      <td>2</td>\n",
       "      <td>1</td>\n",
       "      <td>1</td>\n",
       "      <td>1</td>\n",
       "      <td>4</td>\n",
       "      <td>1</td>\n",
       "      <td>1</td>\n",
       "      <td>-9</td>\n",
       "      <td>1</td>\n",
       "      <td>...</td>\n",
       "      <td>3,1642308</td>\n",
       "      <td>3,4787247</td>\n",
       "      <td>1</td>\n",
       "      <td>377,40994</td>\n",
       "      <td>3,6379006</td>\n",
       "      <td>2</td>\n",
       "      <td>412,32852</td>\n",
       "      <td>2</td>\n",
       "      <td>2</td>\n",
       "      <td>2</td>\n",
       "    </tr>\n",
       "    <tr>\n",
       "      <th>379677</th>\n",
       "      <td>3</td>\n",
       "      <td>2</td>\n",
       "      <td>1</td>\n",
       "      <td>1</td>\n",
       "      <td>1</td>\n",
       "      <td>4</td>\n",
       "      <td>1</td>\n",
       "      <td>1</td>\n",
       "      <td>2</td>\n",
       "      <td>1</td>\n",
       "      <td>...</td>\n",
       "      <td>1,0084842</td>\n",
       "      <td>1,0460204</td>\n",
       "      <td>4</td>\n",
       "      <td>577,97809</td>\n",
       "      <td>1,0021321</td>\n",
       "      <td>3</td>\n",
       "      <td>484,30228</td>\n",
       "      <td>1</td>\n",
       "      <td>1</td>\n",
       "      <td>1</td>\n",
       "    </tr>\n",
       "    <tr>\n",
       "      <th>158420</th>\n",
       "      <td>2</td>\n",
       "      <td>1</td>\n",
       "      <td>1</td>\n",
       "      <td>1</td>\n",
       "      <td>1</td>\n",
       "      <td>3</td>\n",
       "      <td>2</td>\n",
       "      <td>2</td>\n",
       "      <td>1</td>\n",
       "      <td>1</td>\n",
       "      <td>...</td>\n",
       "      <td>1,0758022</td>\n",
       "      <td>1,0764153</td>\n",
       "      <td>3</td>\n",
       "      <td>509,40884</td>\n",
       "      <td>1,0766835</td>\n",
       "      <td>3</td>\n",
       "      <td>502,92981</td>\n",
       "      <td>2</td>\n",
       "      <td>2</td>\n",
       "      <td>2</td>\n",
       "    </tr>\n",
       "  </tbody>\n",
       "</table>\n",
       "<p>5 rows × 124 columns</p>\n",
       "</div>"
      ],
      "text/plain": [
       "        ap1  ap2  ap3a  ap3b  ap3c  ap4  ap5a  ap5b  ap5c  ap5d  ...  \\\n",
       "154453    3    1     1     1     1    3     1     1    -9     1  ...   \n",
       "232068    3    2     1     1     1    8     1     2    -9     1  ...   \n",
       "365165    2    2     1     1     1    4     1     1    -9     1  ...   \n",
       "379677    3    2     1     1     1    4     1     1     2     1  ...   \n",
       "158420    2    1     1     1     1    3     2     2     1     1  ...   \n",
       "\n",
       "           ponder   lpondera  ldesemp   lpuntaje   mpondera  mdesemp  \\\n",
       "154453  1,0514314  1,0794231        2  433,79013  1,0515739        2   \n",
       "232068  1,0039129  1,0064166        3  499,94806  1,0570092        3   \n",
       "365165  3,1642308  3,4787247        1  377,40994  3,6379006        2   \n",
       "379677  1,0084842  1,0460204        4  577,97809  1,0021321        3   \n",
       "158420  1,0758022  1,0764153        3  509,40884  1,0766835        3   \n",
       "\n",
       "         mpuntaje  isocioa  isocioal  isocioam  \n",
       "154453  454,12231        2         2         2  \n",
       "232068  511,01062        1         1         1  \n",
       "365165  412,32852        2         2         2  \n",
       "379677  484,30228        1         1         1  \n",
       "158420  502,92981        2         2         2  \n",
       "\n",
       "[5 rows x 124 columns]"
      ]
     },
     "execution_count": 6,
     "metadata": {},
     "output_type": "execute_result"
    }
   ],
   "source": [
    "df.sample(5)"
   ]
  },
  {
   "cell_type": "code",
   "execution_count": 7,
   "metadata": {},
   "outputs": [
    {
     "data": {
      "text/plain": [
       "<bound method DataFrame.info of         ap1  ap2  ap3a  ap3b  ap3c  ap4  ap5a  ap5b  ap5c  ap5d  ...  \\\n",
       "0         4    2     1     1     1   10     2     2     1     2  ...   \n",
       "1         2    1     1     1     1    4     1     1    -9     1  ...   \n",
       "2         2    1     1     1     1    6     1     1    -9     1  ...   \n",
       "3         5    2     1     1     1    6     1     1     2     1  ...   \n",
       "4         4    2     1     1     1    5     1     1    -9     1  ...   \n",
       "...     ...  ...   ...   ...   ...  ...   ...   ...   ...   ...  ...   \n",
       "579505    3    2     1     1     1    5     1     1     2     1  ...   \n",
       "579506    3    2     1     1     1    8     1     2     1     1  ...   \n",
       "579507    3    2     1     1     1    6     1     2     2     1  ...   \n",
       "579508    3    2     1     1     1    6     1     2     2     1  ...   \n",
       "579509    3    2     1     1     1    5     1     2     2     1  ...   \n",
       "\n",
       "           ponder   lpondera  ldesemp   lpuntaje   mpondera  mdesemp  \\\n",
       "0       3,1642308  3,4787247        4  624,30237  3,6379006        3   \n",
       "1       3,1642308  3,4787247        3  541,39209  3,6379006        3   \n",
       "2       3,1642308  3,4787247        3  470,68723  3,6379006        3   \n",
       "3        2,203661   2,208158        2  434,76788  2,2108715        1   \n",
       "4        2,203661   2,208158        2  418,23492  2,2108715        1   \n",
       "...           ...        ...      ...        ...        ...      ...   \n",
       "579505  1,2030054   1,204447        3  536,84021  1,2678566        2   \n",
       "579506  1,2030054   1,204447        3  515,03595  1,2678566        2   \n",
       "579507  1,2030054   1,204447        4   565,8797  1,2678566        2   \n",
       "579508  1,2030054   1,204447        4  550,91693  1,2678566        3   \n",
       "579509  1,2030054   1,204447        4  578,63928  1,2678566        3   \n",
       "\n",
       "         mpuntaje  isocioa  isocioal  isocioam  \n",
       "0        497,9606       -1        -1        -1  \n",
       "1       511,72632        1         1         1  \n",
       "2       497,24191        2         2         2  \n",
       "3       364,33578        3         3         3  \n",
       "4       366,13287        2         2         2  \n",
       "...           ...      ...       ...       ...  \n",
       "579505  426,88309       -1        -1        -1  \n",
       "579506  422,74527        3         3         3  \n",
       "579507  423,95142        2         2         2  \n",
       "579508  469,24432        3         3         3  \n",
       "579509  474,17343        2         2         2  \n",
       "\n",
       "[579510 rows x 124 columns]>"
      ]
     },
     "execution_count": 7,
     "metadata": {},
     "output_type": "execute_result"
    }
   ],
   "source": [
    "df.info"
   ]
  },
  {
   "cell_type": "code",
   "execution_count": 8,
   "metadata": {},
   "outputs": [
    {
     "data": {
      "text/plain": [
       "124"
      ]
     },
     "execution_count": 8,
     "metadata": {},
     "output_type": "execute_result"
    }
   ],
   "source": [
    "df.shape[1]"
   ]
  },
  {
   "cell_type": "code",
   "execution_count": 9,
   "metadata": {},
   "outputs": [],
   "source": [
    "from sklearn.preprocessing import StandardScaler\n",
    "from sklearn.linear_model import LogisticRegression\n",
    "from sklearn.pipeline import Pipeline"
   ]
  },
  {
   "cell_type": "code",
   "execution_count": 10,
   "metadata": {},
   "outputs": [],
   "source": [
    "pasos = [('scaler', StandardScaler()), ('reglog', LogisticRegression())]"
   ]
  },
  {
   "cell_type": "code",
   "execution_count": 11,
   "metadata": {},
   "outputs": [
    {
     "data": {
      "text/plain": [
       "3    211584\n",
       "2    124422\n",
       "4    113519\n",
       "1    102506\n",
       "      27479\n",
       "Name: mdesemp, dtype: int64"
      ]
     },
     "execution_count": 11,
     "metadata": {},
     "output_type": "execute_result"
    }
   ],
   "source": [
    "df['mdesemp'].value_counts()"
   ]
  },
  {
   "cell_type": "code",
   "execution_count": 12,
   "metadata": {},
   "outputs": [],
   "source": [
    "#27479 son nulos? #imputar nulos ?"
   ]
  },
  {
   "cell_type": "code",
   "execution_count": 13,
   "metadata": {},
   "outputs": [],
   "source": [
    " df['mdesemp'] = pd.to_numeric(df['mdesemp'],errors='coerce')\n"
   ]
  },
  {
   "cell_type": "code",
   "execution_count": 14,
   "metadata": {},
   "outputs": [
    {
     "data": {
      "text/plain": [
       "1    0.775698\n",
       "0    0.224302\n",
       "Name: mdesemp_bin, dtype: float64"
      ]
     },
     "execution_count": 14,
     "metadata": {},
     "output_type": "execute_result"
    }
   ],
   "source": [
    "df['mdesemp_bin']=df['mdesemp'].apply(lambda x: 1 if x>=2 else 0)\n",
    "df['mdesemp_bin'].value_counts(normalize=True)\n",
    "\n",
    "# mdesemp_bin es binario Aprobado 1 (>=3), desaprobado 0 . !!falta imputar nulos."
   ]
  },
  {
   "cell_type": "code",
   "execution_count": 15,
   "metadata": {},
   "outputs": [
    {
     "data": {
      "text/plain": [
       "(405657, 123)"
      ]
     },
     "metadata": {},
     "output_type": "display_data"
    },
    {
     "data": {
      "text/plain": [
       "(173853, 123)"
      ]
     },
     "metadata": {},
     "output_type": "display_data"
    },
    {
     "data": {
      "text/plain": [
       "(405657,)"
      ]
     },
     "metadata": {},
     "output_type": "display_data"
    },
    {
     "data": {
      "text/plain": [
       "(173853,)"
      ]
     },
     "metadata": {},
     "output_type": "display_data"
    }
   ],
   "source": [
    "from sklearn.model_selection import train_test_split\n",
    "\n",
    "# Separamos las variables independientes de la target\n",
    "X=df.drop(columns=['mdesemp','mdesemp_bin'])\n",
    "y=df['mdesemp_bin']\n",
    "\n",
    "# Dividimos los datos en el set de train y el de test: \n",
    "X_train, X_test, y_train, y_test=train_test_split(X,y,test_size=0.3, random_state=30, stratify=y)\n",
    "display(X_train.shape, X_test.shape, y_train.shape, y_test.shape)"
   ]
  },
  {
   "cell_type": "code",
   "execution_count": null,
   "metadata": {},
   "outputs": [],
   "source": []
  },
  {
   "cell_type": "code",
   "execution_count": null,
   "metadata": {},
   "outputs": [],
   "source": []
  }
 ],
 "metadata": {
  "kernelspec": {
   "display_name": "Python 3",
   "language": "python",
   "name": "python3"
  },
  "language_info": {
   "codemirror_mode": {
    "name": "ipython",
    "version": 3
   },
   "file_extension": ".py",
   "mimetype": "text/x-python",
   "name": "python",
   "nbconvert_exporter": "python",
   "pygments_lexer": "ipython3",
   "version": "3.7.7"
  }
 },
 "nbformat": 4,
 "nbformat_minor": 4
}
