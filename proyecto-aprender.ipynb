{
 "cells": [
  {
   "cell_type": "code",
   "execution_count": 1,
   "metadata": {},
   "outputs": [],
   "source": [
    "import pandas as pd  \n",
    "import numpy as np \n",
    "import matplotlib.pyplot as plt\n",
    "import seaborn as sns\n",
    "import re\n",
    "%matplotlib inline\n"
   ]
  },
  {
   "cell_type": "code",
   "execution_count": 2,
   "metadata": {},
   "outputs": [
    {
     "name": "stderr",
     "output_type": "stream",
     "text": [
      "C:\\Users\\Lucia Sammartino\\.conda\\envs\\dhdsblend\\lib\\site-packages\\IPython\\core\\interactiveshell.py:3146: DtypeWarning: Columns (113) have mixed types.Specify dtype option on import or set low_memory=False.\n",
      "  interactivity=interactivity, compiler=compiler, result=result)\n"
     ]
    }
   ],
   "source": [
    "df = pd.read_csv('aprender2018.csv',sep=';')"
   ]
  },
  {
   "cell_type": "code",
   "execution_count": 3,
   "metadata": {},
   "outputs": [
    {
     "data": {
      "text/html": [
       "<div>\n",
       "<style scoped>\n",
       "    .dataframe tbody tr th:only-of-type {\n",
       "        vertical-align: middle;\n",
       "    }\n",
       "\n",
       "    .dataframe tbody tr th {\n",
       "        vertical-align: top;\n",
       "    }\n",
       "\n",
       "    .dataframe thead th {\n",
       "        text-align: right;\n",
       "    }\n",
       "</style>\n",
       "<table border=\"1\" class=\"dataframe\">\n",
       "  <thead>\n",
       "    <tr style=\"text-align: right;\">\n",
       "      <th></th>\n",
       "      <th>ap1</th>\n",
       "      <th>ap2</th>\n",
       "      <th>ap3a</th>\n",
       "      <th>ap3b</th>\n",
       "      <th>ap3c</th>\n",
       "      <th>ap4</th>\n",
       "      <th>ap5a</th>\n",
       "      <th>ap5b</th>\n",
       "      <th>ap5c</th>\n",
       "      <th>ap5d</th>\n",
       "      <th>...</th>\n",
       "      <th>ponder</th>\n",
       "      <th>lpondera</th>\n",
       "      <th>ldesemp</th>\n",
       "      <th>lpuntaje</th>\n",
       "      <th>mpondera</th>\n",
       "      <th>mdesemp</th>\n",
       "      <th>mpuntaje</th>\n",
       "      <th>isocioa</th>\n",
       "      <th>isocioal</th>\n",
       "      <th>isocioam</th>\n",
       "    </tr>\n",
       "  </thead>\n",
       "  <tbody>\n",
       "    <tr>\n",
       "      <th>548496</th>\n",
       "      <td>2</td>\n",
       "      <td>2</td>\n",
       "      <td>1</td>\n",
       "      <td>1</td>\n",
       "      <td>1</td>\n",
       "      <td>4</td>\n",
       "      <td>1</td>\n",
       "      <td>1</td>\n",
       "      <td>2</td>\n",
       "      <td>1</td>\n",
       "      <td>...</td>\n",
       "      <td>1,0406017</td>\n",
       "      <td>1,0492461</td>\n",
       "      <td>4</td>\n",
       "      <td>612,60596</td>\n",
       "      <td>1,0493859</td>\n",
       "      <td>4</td>\n",
       "      <td>662,46954</td>\n",
       "      <td>2</td>\n",
       "      <td>2</td>\n",
       "      <td>2</td>\n",
       "    </tr>\n",
       "    <tr>\n",
       "      <th>538741</th>\n",
       "      <td>3</td>\n",
       "      <td>1</td>\n",
       "      <td>1</td>\n",
       "      <td>1</td>\n",
       "      <td>1</td>\n",
       "      <td>6</td>\n",
       "      <td>1</td>\n",
       "      <td>2</td>\n",
       "      <td>1</td>\n",
       "      <td>1</td>\n",
       "      <td>...</td>\n",
       "      <td>1,0444669</td>\n",
       "      <td>1,0451403</td>\n",
       "      <td>3</td>\n",
       "      <td>523,565</td>\n",
       "      <td>1,0445981</td>\n",
       "      <td>1</td>\n",
       "      <td>404,16818</td>\n",
       "      <td>1</td>\n",
       "      <td>1</td>\n",
       "      <td>1</td>\n",
       "    </tr>\n",
       "    <tr>\n",
       "      <th>87696</th>\n",
       "      <td>2</td>\n",
       "      <td>1</td>\n",
       "      <td>1</td>\n",
       "      <td>1</td>\n",
       "      <td>1</td>\n",
       "      <td>3</td>\n",
       "      <td>1</td>\n",
       "      <td>1</td>\n",
       "      <td>2</td>\n",
       "      <td>1</td>\n",
       "      <td>...</td>\n",
       "      <td>1,040136</td>\n",
       "      <td>1,0379108</td>\n",
       "      <td>4</td>\n",
       "      <td>624,51453</td>\n",
       "      <td>1,0369722</td>\n",
       "      <td>3</td>\n",
       "      <td>537,60382</td>\n",
       "      <td>2</td>\n",
       "      <td>2</td>\n",
       "      <td>2</td>\n",
       "    </tr>\n",
       "    <tr>\n",
       "      <th>94396</th>\n",
       "      <td>3</td>\n",
       "      <td>2</td>\n",
       "      <td>1</td>\n",
       "      <td>1</td>\n",
       "      <td>1</td>\n",
       "      <td>3</td>\n",
       "      <td>1</td>\n",
       "      <td>1</td>\n",
       "      <td>2</td>\n",
       "      <td>1</td>\n",
       "      <td>...</td>\n",
       "      <td>1,1093327</td>\n",
       "      <td>1,1026798</td>\n",
       "      <td>4</td>\n",
       "      <td>622,98322</td>\n",
       "      <td>1,1023453</td>\n",
       "      <td>4</td>\n",
       "      <td>731,06616</td>\n",
       "      <td>3</td>\n",
       "      <td>3</td>\n",
       "      <td>3</td>\n",
       "    </tr>\n",
       "    <tr>\n",
       "      <th>399860</th>\n",
       "      <td>2</td>\n",
       "      <td>1</td>\n",
       "      <td>1</td>\n",
       "      <td>1</td>\n",
       "      <td>1</td>\n",
       "      <td>3</td>\n",
       "      <td>1</td>\n",
       "      <td>2</td>\n",
       "      <td>2</td>\n",
       "      <td>1</td>\n",
       "      <td>...</td>\n",
       "      <td>1,2019969</td>\n",
       "      <td>1,2044499</td>\n",
       "      <td>3</td>\n",
       "      <td>499,63553</td>\n",
       "      <td>1,2059299</td>\n",
       "      <td>2</td>\n",
       "      <td>421,57315</td>\n",
       "      <td>1</td>\n",
       "      <td>1</td>\n",
       "      <td>1</td>\n",
       "    </tr>\n",
       "  </tbody>\n",
       "</table>\n",
       "<p>5 rows × 124 columns</p>\n",
       "</div>"
      ],
      "text/plain": [
       "        ap1  ap2  ap3a  ap3b  ap3c  ap4  ap5a  ap5b  ap5c  ap5d  ...  \\\n",
       "548496    2    2     1     1     1    4     1     1     2     1  ...   \n",
       "538741    3    1     1     1     1    6     1     2     1     1  ...   \n",
       "87696     2    1     1     1     1    3     1     1     2     1  ...   \n",
       "94396     3    2     1     1     1    3     1     1     2     1  ...   \n",
       "399860    2    1     1     1     1    3     1     2     2     1  ...   \n",
       "\n",
       "           ponder   lpondera  ldesemp   lpuntaje   mpondera  mdesemp  \\\n",
       "548496  1,0406017  1,0492461        4  612,60596  1,0493859        4   \n",
       "538741  1,0444669  1,0451403        3    523,565  1,0445981        1   \n",
       "87696    1,040136  1,0379108        4  624,51453  1,0369722        3   \n",
       "94396   1,1093327  1,1026798        4  622,98322  1,1023453        4   \n",
       "399860  1,2019969  1,2044499        3  499,63553  1,2059299        2   \n",
       "\n",
       "         mpuntaje  isocioa  isocioal  isocioam  \n",
       "548496  662,46954        2         2         2  \n",
       "538741  404,16818        1         1         1  \n",
       "87696   537,60382        2         2         2  \n",
       "94396   731,06616        3         3         3  \n",
       "399860  421,57315        1         1         1  \n",
       "\n",
       "[5 rows x 124 columns]"
      ]
     },
     "execution_count": 3,
     "metadata": {},
     "output_type": "execute_result"
    }
   ],
   "source": [
    "df.sample(5)"
   ]
  },
  {
   "cell_type": "code",
   "execution_count": 4,
   "metadata": {},
   "outputs": [
    {
     "data": {
      "text/plain": [
       "<bound method DataFrame.info of         ap1  ap2  ap3a  ap3b  ap3c  ap4  ap5a  ap5b  ap5c  ap5d  ...  \\\n",
       "0         4    2     1     1     1   10     2     2     1     2  ...   \n",
       "1         2    1     1     1     1    4     1     1    -9     1  ...   \n",
       "2         2    1     1     1     1    6     1     1    -9     1  ...   \n",
       "3         5    2     1     1     1    6     1     1     2     1  ...   \n",
       "4         4    2     1     1     1    5     1     1    -9     1  ...   \n",
       "...     ...  ...   ...   ...   ...  ...   ...   ...   ...   ...  ...   \n",
       "579505    3    2     1     1     1    5     1     1     2     1  ...   \n",
       "579506    3    2     1     1     1    8     1     2     1     1  ...   \n",
       "579507    3    2     1     1     1    6     1     2     2     1  ...   \n",
       "579508    3    2     1     1     1    6     1     2     2     1  ...   \n",
       "579509    3    2     1     1     1    5     1     2     2     1  ...   \n",
       "\n",
       "           ponder   lpondera  ldesemp   lpuntaje   mpondera  mdesemp  \\\n",
       "0       3,1642308  3,4787247        4  624,30237  3,6379006        3   \n",
       "1       3,1642308  3,4787247        3  541,39209  3,6379006        3   \n",
       "2       3,1642308  3,4787247        3  470,68723  3,6379006        3   \n",
       "3        2,203661   2,208158        2  434,76788  2,2108715        1   \n",
       "4        2,203661   2,208158        2  418,23492  2,2108715        1   \n",
       "...           ...        ...      ...        ...        ...      ...   \n",
       "579505  1,2030054   1,204447        3  536,84021  1,2678566        2   \n",
       "579506  1,2030054   1,204447        3  515,03595  1,2678566        2   \n",
       "579507  1,2030054   1,204447        4   565,8797  1,2678566        2   \n",
       "579508  1,2030054   1,204447        4  550,91693  1,2678566        3   \n",
       "579509  1,2030054   1,204447        4  578,63928  1,2678566        3   \n",
       "\n",
       "         mpuntaje  isocioa  isocioal  isocioam  \n",
       "0        497,9606       -1        -1        -1  \n",
       "1       511,72632        1         1         1  \n",
       "2       497,24191        2         2         2  \n",
       "3       364,33578        3         3         3  \n",
       "4       366,13287        2         2         2  \n",
       "...           ...      ...       ...       ...  \n",
       "579505  426,88309       -1        -1        -1  \n",
       "579506  422,74527        3         3         3  \n",
       "579507  423,95142        2         2         2  \n",
       "579508  469,24432        3         3         3  \n",
       "579509  474,17343        2         2         2  \n",
       "\n",
       "[579510 rows x 124 columns]>"
      ]
     },
     "execution_count": 4,
     "metadata": {},
     "output_type": "execute_result"
    }
   ],
   "source": [
    "df.info"
   ]
  },
  {
   "cell_type": "code",
   "execution_count": 5,
   "metadata": {},
   "outputs": [
    {
     "data": {
      "text/plain": [
       "124"
      ]
     },
     "execution_count": 5,
     "metadata": {},
     "output_type": "execute_result"
    }
   ],
   "source": [
    "df.shape[1]"
   ]
  },
  {
   "cell_type": "code",
   "execution_count": 6,
   "metadata": {},
   "outputs": [],
   "source": [
    "from sklearn.preprocessing import StandardScaler\n",
    "from sklearn.linear_model import LogisticRegression\n",
    "from sklearn.pipeline import Pipeline"
   ]
  },
  {
   "cell_type": "code",
   "execution_count": 7,
   "metadata": {},
   "outputs": [],
   "source": [
    "pasos = [('scaler', StandardScaler()), ('reglog', LogisticRegression())]"
   ]
  },
  {
   "cell_type": "code",
   "execution_count": 8,
   "metadata": {},
   "outputs": [],
   "source": [
    "pipe = Pipeline(pasos)"
   ]
  },
  {
   "cell_type": "code",
   "execution_count": 9,
   "metadata": {},
   "outputs": [
    {
     "data": {
      "text/plain": [
       "('scaler', StandardScaler())"
      ]
     },
     "execution_count": 9,
     "metadata": {},
     "output_type": "execute_result"
    }
   ],
   "source": [
    "pipe.steps[0]"
   ]
  },
  {
   "cell_type": "code",
   "execution_count": 10,
   "metadata": {},
   "outputs": [
    {
     "data": {
      "text/plain": [
       "('reglog', LogisticRegression())"
      ]
     },
     "execution_count": 10,
     "metadata": {},
     "output_type": "execute_result"
    }
   ],
   "source": [
    "pipe.steps[1]"
   ]
  },
  {
   "cell_type": "code",
   "execution_count": 11,
   "metadata": {},
   "outputs": [
    {
     "data": {
      "text/plain": [
       "3    211584\n",
       "2    124422\n",
       "4    113519\n",
       "1    102506\n",
       "      27479\n",
       "Name: mdesemp, dtype: int64"
      ]
     },
     "execution_count": 11,
     "metadata": {},
     "output_type": "execute_result"
    }
   ],
   "source": [
    "df['mdesemp'].value_counts()"
   ]
  },
  {
   "cell_type": "code",
   "execution_count": 12,
   "metadata": {},
   "outputs": [],
   "source": [
    "#27479 son nulos? #imputar nulos ?"
   ]
  },
  {
   "cell_type": "code",
   "execution_count": 13,
   "metadata": {},
   "outputs": [],
   "source": [
    " df['mdesemp'] = pd.to_numeric(df['mdesemp'],errors='coerce')\n"
   ]
  },
  {
   "cell_type": "code",
   "execution_count": 14,
   "metadata": {},
   "outputs": [
    {
     "data": {
      "text/plain": [
       "1    0.775698\n",
       "0    0.224302\n",
       "Name: mdesemp_bin, dtype: float64"
      ]
     },
     "execution_count": 14,
     "metadata": {},
     "output_type": "execute_result"
    }
   ],
   "source": [
    "df['mdesemp_bin']=df['mdesemp'].apply(lambda x: 1 if x>=2 else 0)\n",
    "df['mdesemp_bin'].value_counts(normalize=True)\n",
    "\n",
    "# mdesemp_bin es binario Aprobado 1 (>=3), desaprobado 0 . !!falta imputar nulos."
   ]
  },
  {
   "cell_type": "code",
   "execution_count": 15,
   "metadata": {},
   "outputs": [
    {
     "data": {
      "text/plain": [
       "(405657, 123)"
      ]
     },
     "metadata": {},
     "output_type": "display_data"
    },
    {
     "data": {
      "text/plain": [
       "(173853, 123)"
      ]
     },
     "metadata": {},
     "output_type": "display_data"
    },
    {
     "data": {
      "text/plain": [
       "(405657,)"
      ]
     },
     "metadata": {},
     "output_type": "display_data"
    },
    {
     "data": {
      "text/plain": [
       "(173853,)"
      ]
     },
     "metadata": {},
     "output_type": "display_data"
    }
   ],
   "source": [
    "from sklearn.model_selection import train_test_split\n",
    "\n",
    "# Separamos las variables independientes de la target\n",
    "X=df.drop(columns=['mdesemp','mdesemp_bin'])\n",
    "y=df['mdesemp_bin']\n",
    "\n",
    "# Dividimos los datos en el set de train y el de test: \n",
    "X_train, X_test, y_train, y_test=train_test_split(X,y,test_size=0.3, random_state=30, stratify=y)\n",
    "display(X_train.shape, X_test.shape, y_train.shape, y_test.shape)"
   ]
  },
  {
   "cell_type": "code",
   "execution_count": 16,
   "metadata": {},
   "outputs": [],
   "source": [
    "from sklearn.metrics import accuracy_score"
   ]
  },
  {
   "cell_type": "code",
   "execution_count": null,
   "metadata": {},
   "outputs": [],
   "source": [
    "sns.pairplot(df, hue='mdesemp')"
   ]
  },
  {
   "cell_type": "code",
   "execution_count": null,
   "metadata": {},
   "outputs": [],
   "source": []
  }
 ],
 "metadata": {
  "kernelspec": {
   "display_name": "Python 3",
   "language": "python",
   "name": "python3"
  },
  "language_info": {
   "codemirror_mode": {
    "name": "ipython",
    "version": 3
   },
   "file_extension": ".py",
   "mimetype": "text/x-python",
   "name": "python",
   "nbconvert_exporter": "python",
   "pygments_lexer": "ipython3",
   "version": "3.7.7"
  }
 },
 "nbformat": 4,
 "nbformat_minor": 4
}
